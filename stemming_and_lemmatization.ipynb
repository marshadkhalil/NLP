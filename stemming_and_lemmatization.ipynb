{
  "nbformat": 4,
  "nbformat_minor": 0,
  "metadata": {
    "colab": {
      "provenance": []
    },
    "kernelspec": {
      "name": "python3",
      "display_name": "Python 3"
    },
    "language_info": {
      "name": "python"
    }
  },
  "cells": [
    {
      "cell_type": "code",
      "execution_count": 1,
      "metadata": {
        "colab": {
          "base_uri": "https://localhost:8080/",
          "height": 35
        },
        "id": "WmmxjUF7oJ6B",
        "outputId": "158a481c-4dee-4944-fa0a-3ced29236fa1"
      },
      "outputs": [
        {
          "output_type": "execute_result",
          "data": {
            "text/plain": [
              "'run'"
            ],
            "application/vnd.google.colaboratory.intrinsic+json": {
              "type": "string"
            }
          },
          "metadata": {},
          "execution_count": 1
        }
      ],
      "source": [
        "from nltk.stem import PorterStemmer\n",
        "pstemmer = PorterStemmer()\n",
        "pstemmer.stem(\"running\")"
      ]
    },
    {
      "cell_type": "code",
      "source": [
        "words_test =[\"go\",\"went\",\"gone\",\"going\"]\n",
        "for word in words_test:\n",
        "  print(\"{} stemmed into {}\".format(word,pstemmer.stem(word)))\n"
      ],
      "metadata": {
        "colab": {
          "base_uri": "https://localhost:8080/"
        },
        "id": "SKFJcs4apvAw",
        "outputId": "a19a88ab-1b8a-4e49-82d1-c3a6b2163202"
      },
      "execution_count": 2,
      "outputs": [
        {
          "output_type": "stream",
          "name": "stdout",
          "text": [
            "go stemmed into go\n",
            "went stemmed into went\n",
            "gone stemmed into gone\n",
            "going stemmed into go\n"
          ]
        }
      ]
    },
    {
      "cell_type": "code",
      "source": [
        "from nltk.stem import LancasterStemmer\n",
        "lstemmer = LancasterStemmer()\n",
        "words_test =[\"give\",\"gave\",\"given\",\"giving\"]\n",
        "for word in words_test:\n",
        "   print(\"{} stemmed into {}\".format(word,lstemmer.stem(word)))"
      ],
      "metadata": {
        "colab": {
          "base_uri": "https://localhost:8080/"
        },
        "id": "_6X527PJqhIJ",
        "outputId": "a81ac549-c809-4b30-8bef-f781f6607b33"
      },
      "execution_count": 3,
      "outputs": [
        {
          "output_type": "stream",
          "name": "stdout",
          "text": [
            "give stemmed into giv\n",
            "gave stemmed into gav\n",
            "given stemmed into giv\n",
            "giving stemmed into giv\n"
          ]
        }
      ]
    },
    {
      "cell_type": "code",
      "source": [
        "from nltk.stem import SnowballStemmer\n",
        "snowstemmer = SnowballStemmer(language=\"english\")\n",
        "word_list = [\"friend\", \"friendly\",\"truly\",\"friendship\", \"friends\", \"friendships\",\"stabil\",\"destabilize\",\"misunderstanding\",\"railroad\",\"moonlight\",\"football\"]\n",
        "print(\"{0:20}{1:30}{2:30}{3:30}\".format(\"Word\",\"PorterStemmer\",\"LancasterStemmer\",\"SnowballStemmer\"))\n",
        "for word in word_list:\n",
        "  print(\"{0:20}{1:30}{2:30}{3:30}\".format(word,pstemmer.stem(word),lstemmer.stem(word),snowstemmer.stem(word)))\n",
        "\n"
      ],
      "metadata": {
        "colab": {
          "base_uri": "https://localhost:8080/"
        },
        "id": "aPknlxa5sd79",
        "outputId": "cdf1ba44-6814-41e8-82d7-6a8877ffcf9c"
      },
      "execution_count": 7,
      "outputs": [
        {
          "output_type": "stream",
          "name": "stdout",
          "text": [
            "Word                PorterStemmer                 LancasterStemmer              SnowballStemmer               \n",
            "friend              friend                        friend                        friend                        \n",
            "friendly            friendli                      friend                        friend                        \n",
            "truly               truli                         tru                           truli                         \n",
            "friendship          friendship                    friend                        friendship                    \n",
            "friends             friend                        friend                        friend                        \n",
            "friendships         friendship                    friend                        friendship                    \n",
            "stabil              stabil                        stabl                         stabil                        \n",
            "destabilize         destabil                      dest                          destabil                      \n",
            "misunderstanding    misunderstand                 misunderstand                 misunderstand                 \n",
            "railroad            railroad                      railroad                      railroad                      \n",
            "moonlight           moonlight                     moonlight                     moonlight                     \n",
            "football            footbal                       footbal                       footbal                       \n"
          ]
        }
      ]
    },
    {
      "cell_type": "code",
      "source": [
        "# import nltk\n",
        "from nltk.stem import wordnet\n",
        "from nltk.stem import WordNetLemmatizer\n",
        "wnlemmatizer = WordNetLemmatizer()\n",
        "wnlemmatizer.lemmatize(\"gave\",\"v\")\n"
      ],
      "metadata": {
        "colab": {
          "base_uri": "https://localhost:8080/",
          "height": 35
        },
        "id": "Iyju29lRx44A",
        "outputId": "b4a33ef9-06cd-42d2-9ea9-e9b506213a3f"
      },
      "execution_count": 22,
      "outputs": [
        {
          "output_type": "execute_result",
          "data": {
            "text/plain": [
              "'give'"
            ],
            "application/vnd.google.colaboratory.intrinsic+json": {
              "type": "string"
            }
          },
          "metadata": {},
          "execution_count": 22
        }
      ]
    },
    {
      "cell_type": "code",
      "source": [
        "words_test =[\"go\",\"went\",\"gone\",\"going\"]\n",
        "for word in words_test:\n",
        "  print(\"{} Lemmatized into {}\".format(word,wnlemmatizer.lemmatize(word,\"v\")))"
      ],
      "metadata": {
        "colab": {
          "base_uri": "https://localhost:8080/"
        },
        "id": "tLfnoMnWImN3",
        "outputId": "d70773ad-4aa4-4dc1-88b8-188cfabcb24b"
      },
      "execution_count": 23,
      "outputs": [
        {
          "output_type": "stream",
          "name": "stdout",
          "text": [
            "go Lemmatized into go\n",
            "went Lemmatized into go\n",
            "gone Lemmatized into go\n",
            "going Lemmatized into go\n"
          ]
        }
      ]
    },
    {
      "cell_type": "code",
      "source": [
        "wnlemmatizer.lemmatize(\"corpora\",\"n\")"
      ],
      "metadata": {
        "colab": {
          "base_uri": "https://localhost:8080/",
          "height": 35
        },
        "id": "bmRDsESiJSn9",
        "outputId": "cf17ea7e-66b3-4c9b-8139-1b5b8feb8d2d"
      },
      "execution_count": 24,
      "outputs": [
        {
          "output_type": "execute_result",
          "data": {
            "text/plain": [
              "'corpus'"
            ],
            "application/vnd.google.colaboratory.intrinsic+json": {
              "type": "string"
            }
          },
          "metadata": {},
          "execution_count": 24
        }
      ]
    }
  ]
}